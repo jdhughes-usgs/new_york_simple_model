{
 "cells": [
  {
   "cell_type": "code",
   "execution_count": 1,
   "id": "0938a053-dae8-4d79-86dd-98a4721a3d08",
   "metadata": {},
   "outputs": [],
   "source": [
    "import os\n",
    "import numpy as np\n",
    "import matplotlib.pyplot as plt\n",
    "\n",
    "import flopy"
   ]
  },
  {
   "cell_type": "code",
   "execution_count": 2,
   "id": "9db726b8-ecda-467a-806e-893c571dfb6e",
   "metadata": {},
   "outputs": [
    {
     "name": "stdout",
     "output_type": "stream",
     "text": [
      "loading simulation...\n",
      "  loading simulation name file...\n",
      "  loading tdis package...\n",
      "  loading model gwf6...\n",
      "    loading package dis...\n",
      "    loading package ic...\n",
      "    loading package npf...\n",
      "    loading package rch...\n",
      "    loading package drn...\n",
      "    loading package ghb...\n",
      "    loading package oc...\n",
      "  loading ims package new_york...\n"
     ]
    }
   ],
   "source": [
    "sim = flopy.mf6.MFSimulation.load(sim_ws=\"model_ss\")"
   ]
  },
  {
   "cell_type": "code",
   "execution_count": 3,
   "id": "c9f8c3fc-b4a5-4da2-84a8-bc3c5d91b0bf",
   "metadata": {},
   "outputs": [],
   "source": [
    "gwf = sim.get_model()"
   ]
  },
  {
   "cell_type": "code",
   "execution_count": 4,
   "id": "92f9c4fc-dd49-4879-baec-8de9bc4f5a0a",
   "metadata": {},
   "outputs": [],
   "source": [
    "cbc = gwf.output.budget()"
   ]
  },
  {
   "cell_type": "code",
   "execution_count": 5,
   "id": "a228a3c2-a4d9-4976-bf44-57b55c71edb5",
   "metadata": {},
   "outputs": [
    {
     "data": {
      "text/plain": [
       "[b'    FLOW-JA-FACE',\n",
       " b'      DATA-SPDIS',\n",
       " b'        DATA-SAT',\n",
       " b'             DRN',\n",
       " b'             GHB',\n",
       " b'             RCH']"
      ]
     },
     "execution_count": 5,
     "metadata": {},
     "output_type": "execute_result"
    }
   ],
   "source": [
    "cbc.get_unique_record_names()"
   ]
  },
  {
   "cell_type": "code",
   "execution_count": 6,
   "id": "0ec67485-36e8-425b-badc-8eb632f6691d",
   "metadata": {},
   "outputs": [],
   "source": [
    "sat = cbc.get_data(text=\"DATA-SAT\")[0]"
   ]
  },
  {
   "cell_type": "code",
   "execution_count": 7,
   "id": "34da371c-4b96-42f1-9ec2-e894b662911c",
   "metadata": {},
   "outputs": [
    {
     "data": {
      "text/plain": [
       "('node', 'node2', 'q', 'sat')"
      ]
     },
     "execution_count": 7,
     "metadata": {},
     "output_type": "execute_result"
    }
   ],
   "source": [
    "sat.dtype.names"
   ]
  },
  {
   "cell_type": "code",
   "execution_count": 8,
   "id": "313950ec-0003-431b-ac2c-f134ee0e4663",
   "metadata": {},
   "outputs": [
    {
     "data": {
      "text/plain": [
       "((220,), 0.6984628983431364, 1.0)"
      ]
     },
     "execution_count": 8,
     "metadata": {},
     "output_type": "execute_result"
    }
   ],
   "source": [
    "sat[\"sat\"].shape, sat[\"sat\"].min(), sat[\"sat\"].max()"
   ]
  },
  {
   "cell_type": "code",
   "execution_count": 9,
   "id": "ab04a70a-937f-4e02-8456-2656e8e3bb29",
   "metadata": {},
   "outputs": [
    {
     "data": {
      "text/plain": [
       "('node', 'node2', 'q', 'qx', 'qy', 'qz')"
      ]
     },
     "execution_count": 9,
     "metadata": {},
     "output_type": "execute_result"
    }
   ],
   "source": [
    "spdis = cbc.get_data(text=\"DATA-SPDIS\")[0]\n",
    "spdis.dtype.names"
   ]
  },
  {
   "cell_type": "code",
   "execution_count": 10,
   "id": "02b62b0b-d284-494b-8440-c9d291084aac",
   "metadata": {},
   "outputs": [],
   "source": [
    "qx, qy, qz = flopy.utils.postprocessing.get_specific_discharge(spdis, gwf)"
   ]
  },
  {
   "cell_type": "code",
   "execution_count": 11,
   "id": "8c8a228a-94b4-40fd-b525-c8513d1e5f22",
   "metadata": {},
   "outputs": [
    {
     "data": {
      "text/plain": [
       "<matplotlib.colorbar.Colorbar at 0x7fd06e1f9df0>"
      ]
     },
     "execution_count": 11,
     "metadata": {},
     "output_type": "execute_result"
    },
    {
     "data": {
      "image/png": "[encoded data removed]",
      "text/plain": [
       "<Figure size 432x288 with 2 Axes>"
      ]
     },
     "metadata": {
      "needs_background": "light"
     },
     "output_type": "display_data"
    }
   ],
   "source": [
    "mv = flopy.plot.PlotMapView(model=gwf)\n",
    "ps = mv.plot_array(sat[\"sat\"])\n",
    "plt.colorbar(ps)"
   ]
  },
  {
   "cell_type": "code",
   "execution_count": 12,
   "id": "2fa5a79c-c03b-4bfb-92cd-ada3fc0c7803",
   "metadata": {},
   "outputs": [],
   "source": [
    "head = gwf.output.head().get_data()"
   ]
  },
  {
   "cell_type": "code",
   "execution_count": 13,
   "id": "da5a51da-0ba7-4b28-9d51-ad85f00f7ecb",
   "metadata": {},
   "outputs": [
    {
     "data": {
      "text/plain": [
       "2.9367584207872"
      ]
     },
     "execution_count": 13,
     "metadata": {},
     "output_type": "execute_result"
    }
   ],
   "source": [
    "head.max()"
   ]
  },
  {
   "cell_type": "code",
   "execution_count": 14,
   "id": "76bdd78c-d239-46da-8e22-bc231b79cd4c",
   "metadata": {},
   "outputs": [],
   "source": [
    "dtw = gwf.dis.top.array - head[0]"
   ]
  },
  {
   "cell_type": "code",
   "execution_count": 15,
   "id": "33bdb3f7-66c6-45fc-976d-08eab2f7c8ce",
   "metadata": {},
   "outputs": [
    {
     "data": {
      "text/plain": [
       "<matplotlib.colorbar.Colorbar at 0x7fd06e3afc40>"
      ]
     },
     "execution_count": 15,
     "metadata": {},
     "output_type": "execute_result"
    },
    {
     "data": {
      "image/png": "[encoded data removed]",
      "text/plain": [
       "<Figure size 432x288 with 2 Axes>"
      ]
     },
     "metadata": {
      "needs_background": "light"
     },
     "output_type": "display_data"
    }
   ],
   "source": [
    "mv = flopy.plot.PlotMapView(model=gwf)\n",
    "pv = mv.plot_array(dtw)\n",
    "plt.colorbar(pv)"
   ]
  },
  {
   "cell_type": "code",
   "execution_count": 16,
   "id": "4e0ebb5a-6757-42d3-b938-78e889b08015",
   "metadata": {},
   "outputs": [
    {
     "data": {
      "text/plain": [
       "<matplotlib.colorbar.Colorbar at 0x7fd06e5f6c40>"
      ]
     },
     "execution_count": 16,
     "metadata": {},
     "output_type": "execute_result"
    },
    {
     "data": {
      "image/png": "[encoded data removed]",
      "text/plain": [
       "<Figure size 432x288 with 2 Axes>"
      ]
     },
     "metadata": {
      "needs_background": "light"
     },
     "output_type": "display_data"
    }
   ],
   "source": [
    "xs = flopy.plot.PlotCrossSection(model=gwf, line={\"row\": 5})\n",
    "xs.ax.axhline(y=0.0, lw=0.5, ls=\":\", color=\"black\")\n",
    "pv = xs.plot_array(head, head=head)\n",
    "xs.plot_vector(qx, qy, qz, head=head, normalize=True)\n",
    "xs.plot_grid()\n",
    "plt.colorbar(pv)"
   ]
  },
  {
   "cell_type": "code",
   "execution_count": 17,
   "id": "8fe28007-7a3b-4e96-a58a-ff9f89db93b9",
   "metadata": {},
   "outputs": [
    {
     "data": {
      "text/plain": [
       "array([[2.54159078, 2.54222488, 2.54345818, 2.54522041, 2.54740488,\n",
       "        2.54986709, 2.55242275, 2.55484533, 2.55690758, 2.55841798,\n",
       "        2.55922325],\n",
       "       [2.54159068, 2.54222481, 2.54345814, 2.54522038, 2.54740484,\n",
       "        2.54986704, 2.5524227 , 2.5548453 , 2.55690758, 2.55841802,\n",
       "        2.55922329],\n",
       "       [2.54159067, 2.54222477, 2.54345813, 2.54522037, 2.54740483,\n",
       "        2.54986703, 2.55242268, 2.55484526, 2.55690754, 2.55841801,\n",
       "        2.55922332],\n",
       "       [2.54159068, 2.54222477, 2.54345812, 2.54522037, 2.54740484,\n",
       "        2.54986704, 2.55242271, 2.55484529, 2.55690754, 2.55841801,\n",
       "        2.55922334],\n",
       "       [2.5415907 , 2.54222479, 2.54345813, 2.54522039, 2.54740485,\n",
       "        2.54986705, 2.55242272, 2.55484532, 2.55690757, 2.55841802,\n",
       "        2.55922336],\n",
       "       [2.54159072, 2.54222481, 2.54345815, 2.54522041, 2.54740488,\n",
       "        2.54986707, 2.55242274, 2.55484534, 2.55690761, 2.55841805,\n",
       "        2.55922339],\n",
       "       [2.54159075, 2.54222485, 2.54345817, 2.54522044, 2.54740492,\n",
       "        2.54986712, 2.55242278, 2.55484538, 2.55690765, 2.55841809,\n",
       "        2.55922343],\n",
       "       [2.54159077, 2.54222491, 2.54345822, 2.54522047, 2.54740495,\n",
       "        2.54986716, 2.55242283, 2.55484542, 2.5569077 , 2.55841814,\n",
       "        2.55922348],\n",
       "       [2.54159079, 2.54222496, 2.5434583 , 2.54522054, 2.54740501,\n",
       "        2.54986722, 2.55242289, 2.55484548, 2.55690775, 2.5584182 ,\n",
       "        2.55922354],\n",
       "       [2.5415908 , 2.54222497, 2.54345835, 2.54522061, 2.54740508,\n",
       "        2.54986729, 2.55242296, 2.55484555, 2.55690782, 2.55841827,\n",
       "        2.55922361]])"
      ]
     },
     "execution_count": 17,
     "metadata": {},
     "output_type": "execute_result"
    }
   ],
   "source": [
    "head[1]"
   ]
  },
  {
   "cell_type": "code",
   "execution_count": null,
   "id": "7b12476e-4e6d-44b0-890f-451fb80507b9",
   "metadata": {},
   "outputs": [],
   "source": []
  }
 ],
 "metadata": {
  "kernelspec": {
   "display_name": "Python 3 (ipykernel)",
   "language": "python",
   "name": "python3"
  },
  "language_info": {
   "codemirror_mode": {
    "name": "ipython",
    "version": 3
   },
   "file_extension": ".py",
   "mimetype": "text/x-python",
   "name": "python",
   "nbconvert_exporter": "python",
   "pygments_lexer": "ipython3",
   "version": "3.9.7"
  }
 },
 "nbformat": 4,
 "nbformat_minor": 5
}
