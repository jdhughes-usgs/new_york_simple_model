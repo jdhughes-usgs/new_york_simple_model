{
 "cells": [
  {
   "cell_type": "code",
   "execution_count": null,
   "id": "0938a053-dae8-4d79-86dd-98a4721a3d08",
   "metadata": {},
   "outputs": [],
   "source": [
    "import os\n",
    "import numpy as np\n",
    "import matplotlib.pyplot as plt\n",
    "from matplotlib import colors\n",
    "\n",
    "import flopy"
   ]
  },
  {
   "cell_type": "code",
   "execution_count": null,
   "id": "2163a400-63b4-4445-bc56-83eb04a4244c",
   "metadata": {},
   "outputs": [],
   "source": [
    "stage_cmap = colors.ListedColormap([\"cyan\"])"
   ]
  },
  {
   "cell_type": "code",
   "execution_count": null,
   "id": "e71b0ebd-f835-4f97-a981-e5a9214d6461",
   "metadata": {},
   "outputs": [],
   "source": [
    "sim = flopy.mf6.MFSimulation.load(sim_ws=\"model_ss\")\n",
    "gwf = sim.get_model()\n",
    "top = gwf.dis.top.array"
   ]
  },
  {
   "cell_type": "markdown",
   "id": "bd6065b1-a470-4f0c-ba5a-ac0042b03780",
   "metadata": {},
   "source": [
    "#### create structured grid for dflowfm"
   ]
  },
  {
   "cell_type": "code",
   "execution_count": null,
   "id": "476d427d-4133-4146-b83d-47bbffcba00e",
   "metadata": {},
   "outputs": [],
   "source": [
    "nrow, ncol = gwf.modelgrid.nrow, gwf.modelgrid.ncol\n",
    "dflowfm_modelgrid = flopy.discretization.StructuredGrid(\n",
    "    nlay=1,\n",
    "    nrow=nrow,\n",
    "    ncol=ncol,\n",
    "    delr=gwf.modelgrid.delr,\n",
    "    delc=gwf.modelgrid.delc,\n",
    "    xoff=gwf.modelgrid.xoffset,\n",
    "    yoff=gwf.modelgrid.yoffset,\n",
    "    botm=top.copy().reshape(1, nrow, ncol),\n",
    "    top=np.full((nrow, ncol), 5., dtype=float),\n",
    ")"
   ]
  },
  {
   "cell_type": "code",
   "execution_count": null,
   "id": "56737bd2-5520-4772-80a2-2e4426023616",
   "metadata": {},
   "outputs": [],
   "source": [
    "dflowfm_stage = gwf.ghb.stress_period_data.array[0][\"bhead\"][0]\n",
    "dflowfm_stage = np.full((nrow, ncol), dflowfm_stage, dtype=float)"
   ]
  },
  {
   "cell_type": "markdown",
   "id": "490e7e97-f850-458d-8c9d-1d4ac06a8841",
   "metadata": {},
   "source": [
    "#### process MODFLOW output"
   ]
  },
  {
   "cell_type": "code",
   "execution_count": null,
   "id": "92f9c4fc-dd49-4879-baec-8de9bc4f5a0a",
   "metadata": {},
   "outputs": [],
   "source": [
    "cbc = gwf.output.budget()"
   ]
  },
  {
   "cell_type": "code",
   "execution_count": null,
   "id": "a228a3c2-a4d9-4976-bf44-57b55c71edb5",
   "metadata": {},
   "outputs": [],
   "source": [
    "cbc.get_unique_record_names()"
   ]
  },
  {
   "cell_type": "code",
   "execution_count": null,
   "id": "0ec67485-36e8-425b-badc-8eb632f6691d",
   "metadata": {},
   "outputs": [],
   "source": [
    "sat = cbc.get_data(text=\"DATA-SAT\")[0]"
   ]
  },
  {
   "cell_type": "code",
   "execution_count": null,
   "id": "34da371c-4b96-42f1-9ec2-e894b662911c",
   "metadata": {},
   "outputs": [],
   "source": [
    "sat.dtype.names"
   ]
  },
  {
   "cell_type": "code",
   "execution_count": null,
   "id": "313950ec-0003-431b-ac2c-f134ee0e4663",
   "metadata": {},
   "outputs": [],
   "source": [
    "sat[\"sat\"].shape, sat[\"sat\"].min(), sat[\"sat\"].max()"
   ]
  },
  {
   "cell_type": "code",
   "execution_count": null,
   "id": "ab04a70a-937f-4e02-8456-2656e8e3bb29",
   "metadata": {},
   "outputs": [],
   "source": [
    "spdis = cbc.get_data(text=\"DATA-SPDIS\")[0]\n",
    "spdis.dtype.names"
   ]
  },
  {
   "cell_type": "code",
   "execution_count": null,
   "id": "02b62b0b-d284-494b-8440-c9d291084aac",
   "metadata": {},
   "outputs": [],
   "source": [
    "qx, qy, qz = flopy.utils.postprocessing.get_specific_discharge(spdis, gwf)"
   ]
  },
  {
   "cell_type": "markdown",
   "id": "c522f89a-d691-443d-bcbe-7710941f5b01",
   "metadata": {},
   "source": [
    "#### plot results"
   ]
  },
  {
   "cell_type": "code",
   "execution_count": null,
   "id": "8c8a228a-94b4-40fd-b525-c8513d1e5f22",
   "metadata": {},
   "outputs": [],
   "source": [
    "mv = flopy.plot.PlotMapView(model=gwf)\n",
    "ps = mv.plot_array(sat[\"sat\"])\n",
    "plt.colorbar(ps)"
   ]
  },
  {
   "cell_type": "code",
   "execution_count": null,
   "id": "2fa5a79c-c03b-4bfb-92cd-ada3fc0c7803",
   "metadata": {},
   "outputs": [],
   "source": [
    "head = gwf.output.head().get_data()"
   ]
  },
  {
   "cell_type": "code",
   "execution_count": null,
   "id": "da5a51da-0ba7-4b28-9d51-ad85f00f7ecb",
   "metadata": {},
   "outputs": [],
   "source": [
    "head.max()"
   ]
  },
  {
   "cell_type": "code",
   "execution_count": null,
   "id": "76bdd78c-d239-46da-8e22-bc231b79cd4c",
   "metadata": {},
   "outputs": [],
   "source": [
    "dtw = gwf.dis.top.array - head[0]"
   ]
  },
  {
   "cell_type": "code",
   "execution_count": null,
   "id": "33bdb3f7-66c6-45fc-976d-08eab2f7c8ce",
   "metadata": {},
   "outputs": [],
   "source": [
    "mv = flopy.plot.PlotMapView(model=gwf)\n",
    "pv = mv.plot_array(dtw)\n",
    "plt.colorbar(pv)"
   ]
  },
  {
   "cell_type": "code",
   "execution_count": null,
   "id": "4e0ebb5a-6757-42d3-b938-78e889b08015",
   "metadata": {},
   "outputs": [],
   "source": [
    "extent = (0, 11, -20, 5)\n",
    "fig, ax = plt.subplots(nrows=1, ncols=1)\n",
    "fig.set_figheight(4)\n",
    "fig.set_figwidth(5)\n",
    "\n",
    "xs = flopy.plot.PlotCrossSection(model=gwf, line={\"row\": 5}, extent=extent)\n",
    "xs.ax.axhline(y=0.0, lw=0.5, ls=\":\", color=\"black\")\n",
    "pv = xs.plot_array(head, head=head)\n",
    "xs.plot_vector(qx, qy, qz, head=head, normalize=True)\n",
    "xs.plot_grid()\n",
    "plt.colorbar(pv);\n",
    "\n",
    "xs_df = flopy.plot.PlotCrossSection(modelgrid=dflowfm_modelgrid, ax=ax, line={\"row\": 5}, extent=extent)\n",
    "ps = xs_df.plot_array(dflowfm_stage, head=dflowfm_stage, cmap=stage_cmap);"
   ]
  },
  {
   "cell_type": "code",
   "execution_count": null,
   "id": "7b12476e-4e6d-44b0-890f-451fb80507b9",
   "metadata": {},
   "outputs": [],
   "source": []
  }
 ],
 "metadata": {
  "kernelspec": {
   "display_name": "Python 3 (ipykernel)",
   "language": "python",
   "name": "python3"
  },
  "language_info": {
   "codemirror_mode": {
    "name": "ipython",
    "version": 3
   },
   "file_extension": ".py",
   "mimetype": "text/x-python",
   "name": "python",
   "nbconvert_exporter": "python",
   "pygments_lexer": "ipython3",
   "version": "3.9.7"
  }
 },
 "nbformat": 4,
 "nbformat_minor": 5
}
