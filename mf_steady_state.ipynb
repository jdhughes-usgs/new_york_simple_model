{
 "cells": [
  {
   "cell_type": "code",
   "execution_count": null,
   "id": "0938a053-dae8-4d79-86dd-98a4721a3d08",
   "metadata": {},
   "outputs": [],
   "source": [
    "import os\n",
    "import numpy as np\n",
    "import matplotlib.pyplot as plt\n",
    "\n",
    "import flopy"
   ]
  },
  {
   "cell_type": "code",
   "execution_count": null,
   "id": "9db726b8-ecda-467a-806e-893c571dfb6e",
   "metadata": {},
   "outputs": [],
   "source": [
    "sim = flopy.mf6.MFSimulation.load(sim_ws=\"model_ss\")"
   ]
  },
  {
   "cell_type": "code",
   "execution_count": null,
   "id": "c9f8c3fc-b4a5-4da2-84a8-bc3c5d91b0bf",
   "metadata": {},
   "outputs": [],
   "source": [
    "gwf = sim.get_model()"
   ]
  },
  {
   "cell_type": "code",
   "execution_count": null,
   "id": "92f9c4fc-dd49-4879-baec-8de9bc4f5a0a",
   "metadata": {},
   "outputs": [],
   "source": [
    "cbc = gwf.output.budget()"
   ]
  },
  {
   "cell_type": "code",
   "execution_count": null,
   "id": "a228a3c2-a4d9-4976-bf44-57b55c71edb5",
   "metadata": {},
   "outputs": [],
   "source": [
    "cbc.get_unique_record_names()"
   ]
  },
  {
   "cell_type": "code",
   "execution_count": null,
   "id": "0ec67485-36e8-425b-badc-8eb632f6691d",
   "metadata": {},
   "outputs": [],
   "source": [
    "sat = cbc.get_data(text=\"DATA-SAT\")[0]"
   ]
  },
  {
   "cell_type": "code",
   "execution_count": null,
   "id": "34da371c-4b96-42f1-9ec2-e894b662911c",
   "metadata": {},
   "outputs": [],
   "source": [
    "sat.dtype.names"
   ]
  },
  {
   "cell_type": "code",
   "execution_count": null,
   "id": "313950ec-0003-431b-ac2c-f134ee0e4663",
   "metadata": {},
   "outputs": [],
   "source": [
    "sat[\"sat\"].shape, sat[\"sat\"].min(), sat[\"sat\"].max()"
   ]
  },
  {
   "cell_type": "code",
   "execution_count": null,
   "id": "ab04a70a-937f-4e02-8456-2656e8e3bb29",
   "metadata": {},
   "outputs": [],
   "source": [
    "spdis = cbc.get_data(text=\"DATA-SPDIS\")[0]\n",
    "spdis.dtype.names"
   ]
  },
  {
   "cell_type": "code",
   "execution_count": null,
   "id": "02b62b0b-d284-494b-8440-c9d291084aac",
   "metadata": {},
   "outputs": [],
   "source": [
    "qx, qy, qz = flopy.utils.postprocessing.get_specific_discharge(spdis, gwf)"
   ]
  },
  {
   "cell_type": "code",
   "execution_count": null,
   "id": "8c8a228a-94b4-40fd-b525-c8513d1e5f22",
   "metadata": {},
   "outputs": [],
   "source": [
    "mv = flopy.plot.PlotMapView(model=gwf)\n",
    "ps = mv.plot_array(sat[\"sat\"])\n",
    "plt.colorbar(ps)"
   ]
  },
  {
   "cell_type": "code",
   "execution_count": null,
   "id": "2fa5a79c-c03b-4bfb-92cd-ada3fc0c7803",
   "metadata": {},
   "outputs": [],
   "source": [
    "head = gwf.output.head().get_data()"
   ]
  },
  {
   "cell_type": "code",
   "execution_count": null,
   "id": "da5a51da-0ba7-4b28-9d51-ad85f00f7ecb",
   "metadata": {},
   "outputs": [],
   "source": [
    "head.max()"
   ]
  },
  {
   "cell_type": "code",
   "execution_count": null,
   "id": "76bdd78c-d239-46da-8e22-bc231b79cd4c",
   "metadata": {},
   "outputs": [],
   "source": [
    "dtw = gwf.dis.top.array - head[0]"
   ]
  },
  {
   "cell_type": "code",
   "execution_count": null,
   "id": "33bdb3f7-66c6-45fc-976d-08eab2f7c8ce",
   "metadata": {},
   "outputs": [],
   "source": [
    "mv = flopy.plot.PlotMapView(model=gwf)\n",
    "pv = mv.plot_array(dtw)\n",
    "plt.colorbar(pv)"
   ]
  },
  {
   "cell_type": "code",
   "execution_count": null,
   "id": "4e0ebb5a-6757-42d3-b938-78e889b08015",
   "metadata": {},
   "outputs": [],
   "source": [
    "xs = flopy.plot.PlotCrossSection(model=gwf, line={\"row\": 5})\n",
    "xs.ax.axhline(y=0.0, lw=0.5, ls=\":\", color=\"black\")\n",
    "pv = xs.plot_array(head, head=head)\n",
    "xs.plot_vector(qx, qy, qz, head=head, normalize=True)\n",
    "xs.plot_grid()\n",
    "plt.colorbar(pv)"
   ]
  },
  {
   "cell_type": "code",
   "execution_count": null,
   "id": "8fe28007-7a3b-4e96-a58a-ff9f89db93b9",
   "metadata": {},
   "outputs": [],
   "source": [
    "head[1]"
   ]
  },
  {
   "cell_type": "code",
   "execution_count": null,
   "id": "7b12476e-4e6d-44b0-890f-451fb80507b9",
   "metadata": {},
   "outputs": [],
   "source": []
  }
 ],
 "metadata": {
  "kernelspec": {
   "display_name": "Python 3 (ipykernel)",
   "language": "python",
   "name": "python3"
  },
  "language_info": {
   "codemirror_mode": {
    "name": "ipython",
    "version": 3
   },
   "file_extension": ".py",
   "mimetype": "text/x-python",
   "name": "python",
   "nbconvert_exporter": "python",
   "pygments_lexer": "ipython3",
   "version": "3.9.7"
  }
 },
 "nbformat": 4,
 "nbformat_minor": 5
}
