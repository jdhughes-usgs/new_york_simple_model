{
 "cells": [
  {
   "cell_type": "code",
   "execution_count": null,
   "id": "d5622dbd",
   "metadata": {},
   "outputs": [],
   "source": [
    "from IPython.display import clear_output, display"
   ]
  },
  {
   "cell_type": "code",
   "execution_count": null,
   "id": "0938a053-dae8-4d79-86dd-98a4721a3d08",
   "metadata": {},
   "outputs": [],
   "source": [
    "import os\n",
    "import time\n",
    "import numpy as np\n",
    "import matplotlib.pyplot as plt\n",
    "from matplotlib import colors\n",
    "\n",
    "import flopy"
   ]
  },
  {
   "cell_type": "code",
   "execution_count": null,
   "id": "703357ba-473a-4978-8085-b05544515b12",
   "metadata": {},
   "outputs": [],
   "source": [
    "from new_york_build_mf import dflowfm_to_array"
   ]
  },
  {
   "cell_type": "code",
   "execution_count": null,
   "id": "938212b9",
   "metadata": {},
   "outputs": [],
   "source": [
    "from dfm_tools.get_nc import get_ncmodeldata, plot_netmapdata, get_netdata\n",
    "from dfm_tools.get_nc_helpers import get_timesfromnc"
   ]
  },
  {
   "cell_type": "code",
   "execution_count": null,
   "id": "9a09e49a-fb26-4dd0-ab1d-f6bac1ca4968",
   "metadata": {},
   "outputs": [],
   "source": [
    "stage_cmap = colors.ListedColormap([\"cyan\"])"
   ]
  },
  {
   "cell_type": "code",
   "execution_count": null,
   "id": "08e9ef62",
   "metadata": {},
   "outputs": [],
   "source": [
    "nc_path = \"model_dfmf/DFM_OUTPUT_model_dfmf/model_dfmf_map.nc\""
   ]
  },
  {
   "cell_type": "code",
   "execution_count": null,
   "id": "7a24ea15",
   "metadata": {},
   "outputs": [],
   "source": [
    "dflowfm_times = get_timesfromnc(file_nc=nc_path, varname=\"time\")\n",
    "dflowfm_times"
   ]
  },
  {
   "cell_type": "code",
   "execution_count": null,
   "id": "4aeed0e7",
   "metadata": {},
   "outputs": [],
   "source": [
    "ugrid_all = get_netdata(file_nc=nc_path)\n",
    "data_frommap_wl = get_ncmodeldata(\n",
    "    file_nc=nc_path, varname=\"mesh2d_s1\", timestep=\"all\"\n",
    ")"
   ]
  },
  {
   "cell_type": "code",
   "execution_count": null,
   "id": "a847dded",
   "metadata": {},
   "outputs": [],
   "source": [
    "x = get_ncmodeldata(\n",
    "    file_nc=nc_path, varname=\"mesh2d_face_x\"\n",
    ")\n",
    "y = get_ncmodeldata(\n",
    "    file_nc=nc_path, varname=\"mesh2d_face_y\"\n",
    ")\n",
    "xy = [(xx, yy) for (xx, yy) in zip(x, y)]"
   ]
  },
  {
   "cell_type": "code",
   "execution_count": null,
   "id": "9db726b8-ecda-467a-806e-893c571dfb6e",
   "metadata": {},
   "outputs": [],
   "source": [
    "sim = flopy.mf6.MFSimulation.load(sim_ws=\"model_dfmf\")\n",
    "gwf = sim.get_model()\n",
    "top = gwf.dis.top.array"
   ]
  },
  {
   "cell_type": "code",
   "execution_count": null,
   "id": "01f2b29d",
   "metadata": {},
   "outputs": [],
   "source": [
    "times = np.array(gwf.output.head().get_times())\n",
    "ntimes = times.shape[0]\n",
    "ntimes, times"
   ]
  },
  {
   "cell_type": "code",
   "execution_count": null,
   "id": "564f6ffa",
   "metadata": {},
   "outputs": [],
   "source": [
    "idx = ntimes - 1"
   ]
  },
  {
   "cell_type": "code",
   "execution_count": null,
   "id": "2fa5a79c-c03b-4bfb-92cd-ada3fc0c7803",
   "metadata": {},
   "outputs": [],
   "source": [
    "head = gwf.output.head().get_data(totim=times[idx])"
   ]
  },
  {
   "cell_type": "code",
   "execution_count": null,
   "id": "da5a51da-0ba7-4b28-9d51-ad85f00f7ecb",
   "metadata": {},
   "outputs": [],
   "source": [
    "head.max()"
   ]
  },
  {
   "cell_type": "code",
   "execution_count": null,
   "id": "92f9c4fc-dd49-4879-baec-8de9bc4f5a0a",
   "metadata": {},
   "outputs": [],
   "source": [
    "cbc = gwf.output.budget()"
   ]
  },
  {
   "cell_type": "code",
   "execution_count": null,
   "id": "a228a3c2-a4d9-4976-bf44-57b55c71edb5",
   "metadata": {},
   "outputs": [],
   "source": [
    "cbc.get_unique_record_names()"
   ]
  },
  {
   "cell_type": "code",
   "execution_count": null,
   "id": "ab04a70a-937f-4e02-8456-2656e8e3bb29",
   "metadata": {},
   "outputs": [],
   "source": [
    "spdis = cbc.get_data(text=\"DATA-SPDIS\", totim=times[idx])[0]\n",
    "spdis.dtype.names"
   ]
  },
  {
   "cell_type": "code",
   "execution_count": null,
   "id": "02b62b0b-d284-494b-8440-c9d291084aac",
   "metadata": {},
   "outputs": [],
   "source": [
    "qx, qy, qz = flopy.utils.postprocessing.get_specific_discharge(spdis, gwf)"
   ]
  },
  {
   "cell_type": "code",
   "execution_count": null,
   "id": "f339f4ec-5f0e-4494-8d7d-08e2679d0ed1",
   "metadata": {},
   "outputs": [],
   "source": []
  },
  {
   "cell_type": "markdown",
   "id": "7e93e1c2-0e42-4570-9308-ce8481314b11",
   "metadata": {},
   "source": [
    "#### create structured grid for dflowfm"
   ]
  },
  {
   "cell_type": "code",
   "execution_count": null,
   "id": "d1b5e669-5126-41c9-a6b2-b79becf1efb3",
   "metadata": {},
   "outputs": [],
   "source": [
    "nrow, ncol = gwf.modelgrid.nrow, gwf.modelgrid.ncol\n",
    "dflowfm_modelgrid = flopy.discretization.StructuredGrid(\n",
    "    nlay=1,\n",
    "    nrow=nrow,\n",
    "    ncol=ncol,\n",
    "    delr=gwf.modelgrid.delr,\n",
    "    delc=gwf.modelgrid.delc,\n",
    "    xoff=gwf.modelgrid.xoffset,\n",
    "    yoff=gwf.modelgrid.yoffset,\n",
    "    botm=top.copy().reshape(1, nrow, ncol),\n",
    "    top=np.full((nrow, ncol), 5., dtype=float),\n",
    ")"
   ]
  },
  {
   "cell_type": "code",
   "execution_count": null,
   "id": "24b09706-5d59-41a1-ada2-e2af05d77ada",
   "metadata": {},
   "outputs": [],
   "source": [
    "dflowfm_stage = dflowfm_to_array(gwf.modelgrid, xy, data_frommap_wl[idx+1, :], two_dimensional=True)"
   ]
  },
  {
   "cell_type": "code",
   "execution_count": null,
   "id": "4e0ebb5a-6757-42d3-b938-78e889b08015",
   "metadata": {},
   "outputs": [],
   "source": [
    "extent = (0, 11, -20, 5)\n",
    "fig, ax = plt.subplots(nrows=1, ncols=1)\n",
    "fig.set_figheight(4)\n",
    "fig.set_figwidth(5)\n",
    "\n",
    "for idx in range(ntimes):\n",
    "    head = gwf.output.head().get_data(totim=times[idx])\n",
    "    spdis = cbc.get_data(text=\"DATA-SPDIS\", totim=times[idx])[0]\n",
    "    qx, qy, qz = flopy.utils.postprocessing.get_specific_discharge(spdis, gwf)\n",
    "    dflowfm_stage = dflowfm_to_array(gwf.modelgrid, xy, data_frommap_wl[idx + 1, :], two_dimensional=True)\n",
    "    dflowfm_stage[:, 0] = dflowfm_stage[:, 1]\n",
    "\n",
    "    xs = flopy.plot.PlotCrossSection(model=gwf, line={\"row\": 5}, ax=ax, extent=extent)\n",
    "    xs.ax.axhline(y=0.0, lw=0.5, ls=\":\", color=\"black\")\n",
    "    pv = xs.plot_array(head, head=head, vmin=2, vmax=4)\n",
    "    vector = xs.plot_vector(qx, qy, qz, head=head, normalize=True)\n",
    "    xs.plot_grid()\n",
    "    if idx == 0:\n",
    "        plt.colorbar(pv, ax=ax);\n",
    "\n",
    "    xs_df = flopy.plot.PlotCrossSection(modelgrid=dflowfm_modelgrid, ax=ax, line={\"row\": 5}, extent=extent)\n",
    "    ps = xs_df.plot_array(dflowfm_stage, head=dflowfm_stage, cmap=stage_cmap)\n",
    "    title_text = fig.suptitle(f\"{dflowfm_times[idx+1]}\")\n",
    "\n",
    "    time.sleep(0.001)\n",
    "    clear_output(True)\n",
    "    display(fig)\n",
    "    ax.cla()    \n"
   ]
  },
  {
   "cell_type": "code",
   "execution_count": null,
   "id": "a39de412-9c19-46e2-9873-21c16ddbc7b4",
   "metadata": {},
   "outputs": [],
   "source": []
  },
  {
   "cell_type": "code",
   "execution_count": null,
   "id": "0710b027",
   "metadata": {},
   "outputs": [],
   "source": []
  }
 ],
 "metadata": {
  "kernelspec": {
   "display_name": "Python 3 (ipykernel)",
   "language": "python",
   "name": "python3"
  },
  "language_info": {
   "codemirror_mode": {
    "name": "ipython",
    "version": 3
   },
   "file_extension": ".py",
   "mimetype": "text/x-python",
   "name": "python",
   "nbconvert_exporter": "python",
   "pygments_lexer": "ipython3",
   "version": "3.9.7"
  }
 },
 "nbformat": 4,
 "nbformat_minor": 5
}
