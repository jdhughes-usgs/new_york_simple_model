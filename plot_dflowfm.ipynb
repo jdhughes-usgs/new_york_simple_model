{
 "cells": [
  {
   "cell_type": "code",
   "execution_count": null,
   "id": "3b261ceb-92c6-4d06-b4bf-8cfbdaab9f1c",
   "metadata": {},
   "outputs": [],
   "source": [
    "from IPython.display import clear_output, display"
   ]
  },
  {
   "cell_type": "code",
   "execution_count": null,
   "id": "f5a05a89-8aa8-47d6-839e-a08a137b2368",
   "metadata": {},
   "outputs": [],
   "source": [
    "import os\n",
    "import pathlib\n",
    "import numpy as np\n",
    "import matplotlib.pyplot as plt\n",
    "\n",
    "from dfm_tools.get_nc import get_ncmodeldata, plot_netmapdata, get_netdata\n",
    "from dfm_tools.get_nc_helpers import get_timesfromnc"
   ]
  },
  {
   "cell_type": "code",
   "execution_count": null,
   "id": "c16aae9e-2b6c-4b2a-b073-048a8b6f7a2c",
   "metadata": {},
   "outputs": [],
   "source": [
    "file_path = pathlib.Path(\"model_dfmf/DFM_OUTPUT_model_dfmf/model_dfmf_map.nc\")"
   ]
  },
  {
   "cell_type": "code",
   "execution_count": null,
   "id": "32050fea-d703-4445-8fc3-ab01aa76006e",
   "metadata": {},
   "outputs": [],
   "source": [
    "ugrid_all = get_netdata(file_nc=str(file_path))"
   ]
  },
  {
   "cell_type": "code",
   "execution_count": null,
   "id": "b2c5be14-e68c-4703-953a-a99fc1a990a9",
   "metadata": {},
   "outputs": [],
   "source": [
    "data_frommap_wl = get_ncmodeldata(\n",
    "    file_nc=str(file_path), varname=\"mesh2d_s1\", timestep=\"all\"\n",
    ")"
   ]
  },
  {
   "cell_type": "code",
   "execution_count": null,
   "id": "8d106a3e-548d-4bf0-8695-938d6ac6b189",
   "metadata": {},
   "outputs": [],
   "source": [
    "data_frommap_hs = get_ncmodeldata(\n",
    "    file_nc=str(file_path), varname=\"mesh2d_waterdepth\", timestep=\"all\"\n",
    ")"
   ]
  },
  {
   "cell_type": "code",
   "execution_count": null,
   "id": "a63daff5",
   "metadata": {},
   "outputs": [],
   "source": [
    "times = get_timesfromnc(file_nc=str(file_path), varname=\"time\")\n",
    "times"
   ]
  },
  {
   "cell_type": "code",
   "execution_count": null,
   "id": "b403b4ab-c352-4035-b2cf-c90c534bf1b0",
   "metadata": {},
   "outputs": [],
   "source": [
    "ntimes = times.shape[0]\n",
    "ntimes"
   ]
  },
  {
   "cell_type": "markdown",
   "id": "616d8e74-eb51-4dfc-857e-170ad0734856",
   "metadata": {},
   "source": [
    "#### Plot water level versus time"
   ]
  },
  {
   "cell_type": "code",
   "execution_count": null,
   "id": "6d79d8d7-2cbb-4613-a8c2-e0030fe4269e",
   "metadata": {},
   "outputs": [],
   "source": [
    "edge_stage = np.array([data_frommap_wl[idx, 0] for idx in range(ntimes)])"
   ]
  },
  {
   "cell_type": "code",
   "execution_count": null,
   "id": "eabde2fb-d633-4868-acc3-c84a676ace94",
   "metadata": {},
   "outputs": [],
   "source": [
    "fig, ax = plt.subplots(nrows=1, ncols=1, sharey=True)\n",
    "fig.set_figheight(5)\n",
    "fig.set_figwidth(5)\n",
    "\n",
    "ax.plot(times, edge_stage)\n",
    "ax.tick_params(axis=\"x\", labelrotation=45);"
   ]
  },
  {
   "cell_type": "markdown",
   "id": "ec488b69-d565-4d8e-9cc9-1aa141169b40",
   "metadata": {},
   "source": [
    "#### plot water level and water depth"
   ]
  },
  {
   "cell_type": "code",
   "execution_count": null,
   "id": "2f9370e2-ae4c-4be3-bd20-e85dc60e0620",
   "metadata": {},
   "outputs": [],
   "source": [
    "fig, axs = plt.subplots(nrows=1, ncols=2, sharey=True)\n",
    "fig.set_figheight(5)\n",
    "fig.set_figwidth(8)\n",
    "axs = axs.flatten()\n",
    "for ax in axs:\n",
    "    ax.set_aspect(\"equal\", \"box\")\n",
    "    ax.set_xlim(-6.0, 5.0)\n",
    "    ax.set_ylim(-5.0, 5.0)\n",
    "\n",
    "for idx in range(ntimes):\n",
    "\n",
    "    for ax in axs:\n",
    "        ax.cla()\n",
    "\n",
    "    figure_title = fig.suptitle(f\"{times[idx]}\")\n",
    "    sc = plot_netmapdata(\n",
    "        ugrid_all.verts,\n",
    "        values=data_frommap_wl[idx, :],\n",
    "        ax=axs[0],\n",
    "        linewidth=0.5,\n",
    "        edgecolor=\"crimson\",\n",
    "    )\n",
    "    sc.set_clim(-5, 5)\n",
    "    wl = plot_netmapdata(\n",
    "        ugrid_all.verts,\n",
    "        values=data_frommap_hs[idx, :],\n",
    "        ax=axs[1],\n",
    "        linewidth=0.5,\n",
    "        edgecolor=\"crimson\",\n",
    "    )\n",
    "    wl.set_clim(0, 5)\n",
    "\n",
    "    axs[0].set_title(\"water level\")\n",
    "    axs[1].set_title(\"water depth\")\n",
    "\n",
    "    if idx == 0:\n",
    "        plt.colorbar(sc, ax=axs[0], orientation=\"horizontal\", shrink=0.5)\n",
    "        plt.colorbar(wl, ax=axs[1], orientation=\"horizontal\", shrink=0.5)\n",
    "\n",
    "    display(fig)\n",
    "    clear_output(wait=True)\n",
    "    plt.pause(0.1)"
   ]
  },
  {
   "cell_type": "code",
   "execution_count": null,
   "id": "7e87bcb0",
   "metadata": {},
   "outputs": [],
   "source": []
  }
 ],
 "metadata": {
  "kernelspec": {
   "display_name": "Python 3 (ipykernel)",
   "language": "python",
   "name": "python3"
  },
  "language_info": {
   "codemirror_mode": {
    "name": "ipython",
    "version": 3
   },
   "file_extension": ".py",
   "mimetype": "text/x-python",
   "name": "python",
   "nbconvert_exporter": "python",
   "pygments_lexer": "ipython3",
   "version": "3.10.6"
  }
 },
 "nbformat": 4,
 "nbformat_minor": 5
}
